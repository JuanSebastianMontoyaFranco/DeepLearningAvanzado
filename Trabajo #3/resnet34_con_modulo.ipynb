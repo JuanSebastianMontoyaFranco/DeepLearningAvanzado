{
  "nbformat": 4,
  "nbformat_minor": 0,
  "metadata": {
    "colab": {
      "provenance": [],
      "gpuType": "T4"
    },
    "kernelspec": {
      "name": "python3",
      "display_name": "Python 3"
    },
    "language_info": {
      "name": "python"
    },
    "accelerator": "GPU"
  },
  "cells": [
    {
      "cell_type": "code",
      "source": [
        "from google.colab import drive\n",
        "drive.mount('/content/drive')"
      ],
      "metadata": {
        "colab": {
          "base_uri": "https://localhost:8080/"
        },
        "id": "UIEx5X3qABWU",
        "outputId": "1c0c50a8-b345-42c5-c455-4588c97ebd10"
      },
      "execution_count": 1,
      "outputs": [
        {
          "output_type": "stream",
          "name": "stdout",
          "text": [
            "Mounted at /content/drive\n"
          ]
        }
      ]
    },
    {
      "cell_type": "code",
      "execution_count": 2,
      "metadata": {
        "id": "H36mxYfPqI-T"
      },
      "outputs": [],
      "source": [
        "import tensorflow as tf\n",
        "import numpy as np\n",
        "import matplotlib.pyplot as plt\n",
        "\n",
        "from IPython.display import Image, display\n",
        "import matplotlib.pyplot as plt\n",
        "import matplotlib.cm as cm"
      ]
    },
    {
      "cell_type": "code",
      "source": [
        "tf.test.gpu_device_name()"
      ],
      "metadata": {
        "id": "oNxK86xtvc4C",
        "colab": {
          "base_uri": "https://localhost:8080/",
          "height": 35
        },
        "outputId": "c6e30fea-37c1-4f91-886d-6a6ebe816190"
      },
      "execution_count": 3,
      "outputs": [
        {
          "output_type": "execute_result",
          "data": {
            "text/plain": [
              "'/device:GPU:0'"
            ],
            "application/vnd.google.colaboratory.intrinsic+json": {
              "type": "string"
            }
          },
          "metadata": {},
          "execution_count": 3
        }
      ]
    },
    {
      "cell_type": "markdown",
      "source": [
        "![image.png](data:image/png;base64,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)"
      ],
      "metadata": {
        "id": "Tux8rP79ZXX8"
      }
    },
    {
      "cell_type": "markdown",
      "source": [
        "CON MODULO"
      ],
      "metadata": {
        "id": "_ZgDaTLOAcQR"
      }
    },
    {
      "cell_type": "code",
      "source": [
        "def se_block(input, ratio=16):\n",
        "    channels = input.shape[-1]\n",
        "    se_shape = (1, 1, channels)\n",
        "    \n",
        "    se = tf.keras.layers.GlobalAveragePooling2D()(input)\n",
        "    se = tf.keras.layers.Reshape(se_shape)(se)\n",
        "    se = tf.keras.layers.Dense(channels // ratio, activation='relu')(se)\n",
        "    se = tf.keras.layers.Dense(channels, activation='sigmoid')(se)\n",
        "    \n",
        "    return tf.keras.layers.multiply([input, se])"
      ],
      "metadata": {
        "id": "-SeT-_-SAa5D"
      },
      "execution_count": 4,
      "outputs": []
    },
    {
      "cell_type": "code",
      "source": [
        "def identity_block(x, filter):\n",
        "    x_skip = x\n",
        "    x = tf.keras.layers.Conv2D(filter, (3,3), padding = 'same')(x)\n",
        "    x = tf.keras.layers.BatchNormalization(axis=3)(x)\n",
        "    x = tf.keras.layers.Activation('relu')(x)\n",
        "    x = tf.keras.layers.Conv2D(filter, (3,3), padding = 'same')(x)\n",
        "    x = tf.keras.layers.BatchNormalization(axis=3)(x)\n",
        "    x = se_block(x)  # Add Squeeze-and-Excitation block here\n",
        "    x = tf.keras.layers.Add()([x, x_skip])     \n",
        "    x = tf.keras.layers.Activation('relu')(x)\n",
        "    return x\n",
        "\n",
        "def convolutional_block(x, filter):\n",
        "    x_skip = x\n",
        "    x = tf.keras.layers.Conv2D(filter, (3,3), padding = 'same', strides = (2,2))(x)\n",
        "    x = tf.keras.layers.BatchNormalization(axis=3)(x)\n",
        "    x = tf.keras.layers.Activation('relu')(x)\n",
        "    x = tf.keras.layers.Conv2D(filter, (3,3), padding = 'same')(x)\n",
        "    x = tf.keras.layers.BatchNormalization(axis=3)(x)\n",
        "    x = se_block(x)  # Add Squeeze-and-Excitation block here\n",
        "    x_skip = tf.keras.layers.Conv2D(filter, (1,1), strides = (2,2))(x_skip)\n",
        "    x = tf.keras.layers.Add()([x, x_skip])     \n",
        "    x = tf.keras.layers.Activation('relu')(x)\n",
        "    return x"
      ],
      "metadata": {
        "id": "c9sAbDXwAkSr"
      },
      "execution_count": 5,
      "outputs": []
    },
    {
      "cell_type": "markdown",
      "source": [
        "RESNET34"
      ],
      "metadata": {
        "id": "PLFJnYXBAf35"
      }
    },
    {
      "cell_type": "code",
      "source": [
        "def ResNet34(shape = (32, 32, 3), classes = 4):\n",
        "    # Step 1 (Setup Input Layer)\n",
        "    x_input = tf.keras.layers.Input(shape)\n",
        "    x = tf.keras.layers.ZeroPadding2D((3, 3))(x_input)\n",
        "    # Step 2 (Initial Conv layer along with maxPool)\n",
        "    x = tf.keras.layers.Conv2D(64, kernel_size=7, strides=2, padding='same')(x)\n",
        "    x = tf.keras.layers.BatchNormalization()(x)\n",
        "    x = tf.keras.layers.Activation('relu')(x)\n",
        "    x = tf.keras.layers.MaxPool2D(pool_size=3, strides=2, padding='same')(x)\n",
        "    # Define size of sub-blocks and initial filter size\n",
        "    block_layers = [3, 4, 6, 3]\n",
        "    filter_size = 64\n",
        "    # Step 3 Add the Resnet Blocks\n",
        "    for i in range(4):\n",
        "        if i == 0:\n",
        "            # For sub-block 1 Residual/Convolutional block not needed\n",
        "            for j in range(block_layers[i]):\n",
        "                x = identity_block(x, filter_size)\n",
        "        else:\n",
        "            # One Residual/Convolutional Block followed by Identity blocks\n",
        "            # The filter size will go on increasing by a factor of 2\n",
        "            filter_size = filter_size*2\n",
        "            x = convolutional_block(x, filter_size)\n",
        "            for j in range(block_layers[i] - 1):\n",
        "                x = identity_block(x, filter_size)\n",
        "    # Step 4 End Dense Network\n",
        "    x = tf.keras.layers.AveragePooling2D((2,2), padding = 'same')(x)\n",
        "    x = tf.keras.layers.Flatten()(x)\n",
        "    x = tf.keras.layers.Dense(512, activation = 'relu')(x)\n",
        "    x = tf.keras.layers.Dense(classes, activation = 'softmax')(x)\n",
        "    model = tf.keras.models.Model(inputs = x_input, outputs = x, name = \"ResNet34\")\n",
        "    return model"
      ],
      "metadata": {
        "id": "Ke-wIPuKrAOh"
      },
      "execution_count": 6,
      "outputs": []
    },
    {
      "cell_type": "code",
      "source": [
        "import numpy as np\n",
        "train_data = np.load('/content/drive/MyDrive/prubeba_entrega/dataset.npz')\n",
        "print(train_data.files)\n",
        "x_train = train_data['x']\n",
        "y_train = train_data['y']"
      ],
      "metadata": {
        "colab": {
          "base_uri": "https://localhost:8080/"
        },
        "id": "sbMXE8RLAu5q",
        "outputId": "04aadf80-6ea8-4b3d-e06d-1ca3ab50a4a1"
      },
      "execution_count": 7,
      "outputs": [
        {
          "output_type": "stream",
          "name": "stdout",
          "text": [
            "['x', 'y']\n"
          ]
        }
      ]
    },
    {
      "cell_type": "code",
      "source": [
        "channel = x_train.shape[-1]"
      ],
      "metadata": {
        "id": "OAEYMAZIAz-C"
      },
      "execution_count": 8,
      "outputs": []
    },
    {
      "cell_type": "code",
      "source": [
        "# to 32 x 32 x channel\n",
        "import cv2\n",
        "real = np.ndarray(shape=(x_train.shape[0], 32, 32, channel))\n",
        "for i in range(x_train.shape[0]):\n",
        "    real[i] = cv2.resize(x_train[i], (32, 32)).reshape((32, 32, channel))"
      ],
      "metadata": {
        "id": "W01Aik7hA4hD"
      },
      "execution_count": 9,
      "outputs": []
    },
    {
      "cell_type": "code",
      "source": [
        "from sklearn.model_selection import train_test_split\n",
        "\n",
        "# Dividir los datos en entrenamiento y prueba\n",
        "x_train, x_test, y_train, y_test = train_test_split(real, y_train, test_size=0.2, random_state=42)"
      ],
      "metadata": {
        "id": "vpdo32cfBRm0"
      },
      "execution_count": 10,
      "outputs": []
    },
    {
      "cell_type": "code",
      "source": [
        "#(x_train, y_train), (x_test, y_test) = tf.keras.datasets.cifar10.load_data()"
      ],
      "metadata": {
        "id": "CLl7ogaMrXdH"
      },
      "execution_count": 11,
      "outputs": []
    },
    {
      "cell_type": "code",
      "source": [
        "x_train = x_train.astype('float32')/255\n",
        "x_test = x_test.astype('float32')/255"
      ],
      "metadata": {
        "id": "R4K58tjftxpN"
      },
      "execution_count": 12,
      "outputs": []
    },
    {
      "cell_type": "code",
      "source": [
        "#one hot encoding \n",
        "num_classes = 4\n",
        "y_train = tf.keras.utils.to_categorical(y_train,num_classes)\n",
        "y_test = tf.keras.utils.to_categorical(y_test,num_classes)"
      ],
      "metadata": {
        "id": "p0aD56jSuC9W"
      },
      "execution_count": 13,
      "outputs": []
    },
    {
      "cell_type": "code",
      "source": [
        "model = ResNet34()"
      ],
      "metadata": {
        "id": "fOI8iLlJrGdd"
      },
      "execution_count": 14,
      "outputs": []
    },
    {
      "cell_type": "code",
      "source": [
        "model.summary()"
      ],
      "metadata": {
        "colab": {
          "base_uri": "https://localhost:8080/"
        },
        "id": "OWQ1jvvf2vU5",
        "outputId": "1aede2f4-fd78-4eb4-96b5-3555d996b60d"
      },
      "execution_count": 15,
      "outputs": [
        {
          "output_type": "stream",
          "name": "stdout",
          "text": [
            "Model: \"ResNet34\"\n",
            "__________________________________________________________________________________________________\n",
            " Layer (type)                   Output Shape         Param #     Connected to                     \n",
            "==================================================================================================\n",
            " input_1 (InputLayer)           [(None, 32, 32, 3)]  0           []                               \n",
            "                                                                                                  \n",
            " zero_padding2d (ZeroPadding2D)  (None, 38, 38, 3)   0           ['input_1[0][0]']                \n",
            "                                                                                                  \n",
            " conv2d (Conv2D)                (None, 19, 19, 64)   9472        ['zero_padding2d[0][0]']         \n",
            "                                                                                                  \n",
            " batch_normalization (BatchNorm  (None, 19, 19, 64)  256         ['conv2d[0][0]']                 \n",
            " alization)                                                                                       \n",
            "                                                                                                  \n",
            " activation (Activation)        (None, 19, 19, 64)   0           ['batch_normalization[0][0]']    \n",
            "                                                                                                  \n",
            " max_pooling2d (MaxPooling2D)   (None, 10, 10, 64)   0           ['activation[0][0]']             \n",
            "                                                                                                  \n",
            " conv2d_1 (Conv2D)              (None, 10, 10, 64)   36928       ['max_pooling2d[0][0]']          \n",
            "                                                                                                  \n",
            " batch_normalization_1 (BatchNo  (None, 10, 10, 64)  256         ['conv2d_1[0][0]']               \n",
            " rmalization)                                                                                     \n",
            "                                                                                                  \n",
            " activation_1 (Activation)      (None, 10, 10, 64)   0           ['batch_normalization_1[0][0]']  \n",
            "                                                                                                  \n",
            " conv2d_2 (Conv2D)              (None, 10, 10, 64)   36928       ['activation_1[0][0]']           \n",
            "                                                                                                  \n",
            " batch_normalization_2 (BatchNo  (None, 10, 10, 64)  256         ['conv2d_2[0][0]']               \n",
            " rmalization)                                                                                     \n",
            "                                                                                                  \n",
            " global_average_pooling2d (Glob  (None, 64)          0           ['batch_normalization_2[0][0]']  \n",
            " alAveragePooling2D)                                                                              \n",
            "                                                                                                  \n",
            " reshape (Reshape)              (None, 1, 1, 64)     0           ['global_average_pooling2d[0][0]'\n",
            "                                                                 ]                                \n",
            "                                                                                                  \n",
            " dense (Dense)                  (None, 1, 1, 4)      260         ['reshape[0][0]']                \n",
            "                                                                                                  \n",
            " dense_1 (Dense)                (None, 1, 1, 64)     320         ['dense[0][0]']                  \n",
            "                                                                                                  \n",
            " multiply (Multiply)            (None, 10, 10, 64)   0           ['batch_normalization_2[0][0]',  \n",
            "                                                                  'dense_1[0][0]']                \n",
            "                                                                                                  \n",
            " add (Add)                      (None, 10, 10, 64)   0           ['multiply[0][0]',               \n",
            "                                                                  'max_pooling2d[0][0]']          \n",
            "                                                                                                  \n",
            " activation_2 (Activation)      (None, 10, 10, 64)   0           ['add[0][0]']                    \n",
            "                                                                                                  \n",
            " conv2d_3 (Conv2D)              (None, 10, 10, 64)   36928       ['activation_2[0][0]']           \n",
            "                                                                                                  \n",
            " batch_normalization_3 (BatchNo  (None, 10, 10, 64)  256         ['conv2d_3[0][0]']               \n",
            " rmalization)                                                                                     \n",
            "                                                                                                  \n",
            " activation_3 (Activation)      (None, 10, 10, 64)   0           ['batch_normalization_3[0][0]']  \n",
            "                                                                                                  \n",
            " conv2d_4 (Conv2D)              (None, 10, 10, 64)   36928       ['activation_3[0][0]']           \n",
            "                                                                                                  \n",
            " batch_normalization_4 (BatchNo  (None, 10, 10, 64)  256         ['conv2d_4[0][0]']               \n",
            " rmalization)                                                                                     \n",
            "                                                                                                  \n",
            " global_average_pooling2d_1 (Gl  (None, 64)          0           ['batch_normalization_4[0][0]']  \n",
            " obalAveragePooling2D)                                                                            \n",
            "                                                                                                  \n",
            " reshape_1 (Reshape)            (None, 1, 1, 64)     0           ['global_average_pooling2d_1[0][0\n",
            "                                                                 ]']                              \n",
            "                                                                                                  \n",
            " dense_2 (Dense)                (None, 1, 1, 4)      260         ['reshape_1[0][0]']              \n",
            "                                                                                                  \n",
            " dense_3 (Dense)                (None, 1, 1, 64)     320         ['dense_2[0][0]']                \n",
            "                                                                                                  \n",
            " multiply_1 (Multiply)          (None, 10, 10, 64)   0           ['batch_normalization_4[0][0]',  \n",
            "                                                                  'dense_3[0][0]']                \n",
            "                                                                                                  \n",
            " add_1 (Add)                    (None, 10, 10, 64)   0           ['multiply_1[0][0]',             \n",
            "                                                                  'activation_2[0][0]']           \n",
            "                                                                                                  \n",
            " activation_4 (Activation)      (None, 10, 10, 64)   0           ['add_1[0][0]']                  \n",
            "                                                                                                  \n",
            " conv2d_5 (Conv2D)              (None, 10, 10, 64)   36928       ['activation_4[0][0]']           \n",
            "                                                                                                  \n",
            " batch_normalization_5 (BatchNo  (None, 10, 10, 64)  256         ['conv2d_5[0][0]']               \n",
            " rmalization)                                                                                     \n",
            "                                                                                                  \n",
            " activation_5 (Activation)      (None, 10, 10, 64)   0           ['batch_normalization_5[0][0]']  \n",
            "                                                                                                  \n",
            " conv2d_6 (Conv2D)              (None, 10, 10, 64)   36928       ['activation_5[0][0]']           \n",
            "                                                                                                  \n",
            " batch_normalization_6 (BatchNo  (None, 10, 10, 64)  256         ['conv2d_6[0][0]']               \n",
            " rmalization)                                                                                     \n",
            "                                                                                                  \n",
            " global_average_pooling2d_2 (Gl  (None, 64)          0           ['batch_normalization_6[0][0]']  \n",
            " obalAveragePooling2D)                                                                            \n",
            "                                                                                                  \n",
            " reshape_2 (Reshape)            (None, 1, 1, 64)     0           ['global_average_pooling2d_2[0][0\n",
            "                                                                 ]']                              \n",
            "                                                                                                  \n",
            " dense_4 (Dense)                (None, 1, 1, 4)      260         ['reshape_2[0][0]']              \n",
            "                                                                                                  \n",
            " dense_5 (Dense)                (None, 1, 1, 64)     320         ['dense_4[0][0]']                \n",
            "                                                                                                  \n",
            " multiply_2 (Multiply)          (None, 10, 10, 64)   0           ['batch_normalization_6[0][0]',  \n",
            "                                                                  'dense_5[0][0]']                \n",
            "                                                                                                  \n",
            " add_2 (Add)                    (None, 10, 10, 64)   0           ['multiply_2[0][0]',             \n",
            "                                                                  'activation_4[0][0]']           \n",
            "                                                                                                  \n",
            " activation_6 (Activation)      (None, 10, 10, 64)   0           ['add_2[0][0]']                  \n",
            "                                                                                                  \n",
            " conv2d_7 (Conv2D)              (None, 5, 5, 128)    73856       ['activation_6[0][0]']           \n",
            "                                                                                                  \n",
            " batch_normalization_7 (BatchNo  (None, 5, 5, 128)   512         ['conv2d_7[0][0]']               \n",
            " rmalization)                                                                                     \n",
            "                                                                                                  \n",
            " activation_7 (Activation)      (None, 5, 5, 128)    0           ['batch_normalization_7[0][0]']  \n",
            "                                                                                                  \n",
            " conv2d_8 (Conv2D)              (None, 5, 5, 128)    147584      ['activation_7[0][0]']           \n",
            "                                                                                                  \n",
            " batch_normalization_8 (BatchNo  (None, 5, 5, 128)   512         ['conv2d_8[0][0]']               \n",
            " rmalization)                                                                                     \n",
            "                                                                                                  \n",
            " global_average_pooling2d_3 (Gl  (None, 128)         0           ['batch_normalization_8[0][0]']  \n",
            " obalAveragePooling2D)                                                                            \n",
            "                                                                                                  \n",
            " reshape_3 (Reshape)            (None, 1, 1, 128)    0           ['global_average_pooling2d_3[0][0\n",
            "                                                                 ]']                              \n",
            "                                                                                                  \n",
            " dense_6 (Dense)                (None, 1, 1, 8)      1032        ['reshape_3[0][0]']              \n",
            "                                                                                                  \n",
            " dense_7 (Dense)                (None, 1, 1, 128)    1152        ['dense_6[0][0]']                \n",
            "                                                                                                  \n",
            " multiply_3 (Multiply)          (None, 5, 5, 128)    0           ['batch_normalization_8[0][0]',  \n",
            "                                                                  'dense_7[0][0]']                \n",
            "                                                                                                  \n",
            " conv2d_9 (Conv2D)              (None, 5, 5, 128)    8320        ['activation_6[0][0]']           \n",
            "                                                                                                  \n",
            " add_3 (Add)                    (None, 5, 5, 128)    0           ['multiply_3[0][0]',             \n",
            "                                                                  'conv2d_9[0][0]']               \n",
            "                                                                                                  \n",
            " activation_8 (Activation)      (None, 5, 5, 128)    0           ['add_3[0][0]']                  \n",
            "                                                                                                  \n",
            " conv2d_10 (Conv2D)             (None, 5, 5, 128)    147584      ['activation_8[0][0]']           \n",
            "                                                                                                  \n",
            " batch_normalization_9 (BatchNo  (None, 5, 5, 128)   512         ['conv2d_10[0][0]']              \n",
            " rmalization)                                                                                     \n",
            "                                                                                                  \n",
            " activation_9 (Activation)      (None, 5, 5, 128)    0           ['batch_normalization_9[0][0]']  \n",
            "                                                                                                  \n",
            " conv2d_11 (Conv2D)             (None, 5, 5, 128)    147584      ['activation_9[0][0]']           \n",
            "                                                                                                  \n",
            " batch_normalization_10 (BatchN  (None, 5, 5, 128)   512         ['conv2d_11[0][0]']              \n",
            " ormalization)                                                                                    \n",
            "                                                                                                  \n",
            " global_average_pooling2d_4 (Gl  (None, 128)         0           ['batch_normalization_10[0][0]'] \n",
            " obalAveragePooling2D)                                                                            \n",
            "                                                                                                  \n",
            " reshape_4 (Reshape)            (None, 1, 1, 128)    0           ['global_average_pooling2d_4[0][0\n",
            "                                                                 ]']                              \n",
            "                                                                                                  \n",
            " dense_8 (Dense)                (None, 1, 1, 8)      1032        ['reshape_4[0][0]']              \n",
            "                                                                                                  \n",
            " dense_9 (Dense)                (None, 1, 1, 128)    1152        ['dense_8[0][0]']                \n",
            "                                                                                                  \n",
            " multiply_4 (Multiply)          (None, 5, 5, 128)    0           ['batch_normalization_10[0][0]', \n",
            "                                                                  'dense_9[0][0]']                \n",
            "                                                                                                  \n",
            " add_4 (Add)                    (None, 5, 5, 128)    0           ['multiply_4[0][0]',             \n",
            "                                                                  'activation_8[0][0]']           \n",
            "                                                                                                  \n",
            " activation_10 (Activation)     (None, 5, 5, 128)    0           ['add_4[0][0]']                  \n",
            "                                                                                                  \n",
            " conv2d_12 (Conv2D)             (None, 5, 5, 128)    147584      ['activation_10[0][0]']          \n",
            "                                                                                                  \n",
            " batch_normalization_11 (BatchN  (None, 5, 5, 128)   512         ['conv2d_12[0][0]']              \n",
            " ormalization)                                                                                    \n",
            "                                                                                                  \n",
            " activation_11 (Activation)     (None, 5, 5, 128)    0           ['batch_normalization_11[0][0]'] \n",
            "                                                                                                  \n",
            " conv2d_13 (Conv2D)             (None, 5, 5, 128)    147584      ['activation_11[0][0]']          \n",
            "                                                                                                  \n",
            " batch_normalization_12 (BatchN  (None, 5, 5, 128)   512         ['conv2d_13[0][0]']              \n",
            " ormalization)                                                                                    \n",
            "                                                                                                  \n",
            " global_average_pooling2d_5 (Gl  (None, 128)         0           ['batch_normalization_12[0][0]'] \n",
            " obalAveragePooling2D)                                                                            \n",
            "                                                                                                  \n",
            " reshape_5 (Reshape)            (None, 1, 1, 128)    0           ['global_average_pooling2d_5[0][0\n",
            "                                                                 ]']                              \n",
            "                                                                                                  \n",
            " dense_10 (Dense)               (None, 1, 1, 8)      1032        ['reshape_5[0][0]']              \n",
            "                                                                                                  \n",
            " dense_11 (Dense)               (None, 1, 1, 128)    1152        ['dense_10[0][0]']               \n",
            "                                                                                                  \n",
            " multiply_5 (Multiply)          (None, 5, 5, 128)    0           ['batch_normalization_12[0][0]', \n",
            "                                                                  'dense_11[0][0]']               \n",
            "                                                                                                  \n",
            " add_5 (Add)                    (None, 5, 5, 128)    0           ['multiply_5[0][0]',             \n",
            "                                                                  'activation_10[0][0]']          \n",
            "                                                                                                  \n",
            " activation_12 (Activation)     (None, 5, 5, 128)    0           ['add_5[0][0]']                  \n",
            "                                                                                                  \n",
            " conv2d_14 (Conv2D)             (None, 5, 5, 128)    147584      ['activation_12[0][0]']          \n",
            "                                                                                                  \n",
            " batch_normalization_13 (BatchN  (None, 5, 5, 128)   512         ['conv2d_14[0][0]']              \n",
            " ormalization)                                                                                    \n",
            "                                                                                                  \n",
            " activation_13 (Activation)     (None, 5, 5, 128)    0           ['batch_normalization_13[0][0]'] \n",
            "                                                                                                  \n",
            " conv2d_15 (Conv2D)             (None, 5, 5, 128)    147584      ['activation_13[0][0]']          \n",
            "                                                                                                  \n",
            " batch_normalization_14 (BatchN  (None, 5, 5, 128)   512         ['conv2d_15[0][0]']              \n",
            " ormalization)                                                                                    \n",
            "                                                                                                  \n",
            " global_average_pooling2d_6 (Gl  (None, 128)         0           ['batch_normalization_14[0][0]'] \n",
            " obalAveragePooling2D)                                                                            \n",
            "                                                                                                  \n",
            " reshape_6 (Reshape)            (None, 1, 1, 128)    0           ['global_average_pooling2d_6[0][0\n",
            "                                                                 ]']                              \n",
            "                                                                                                  \n",
            " dense_12 (Dense)               (None, 1, 1, 8)      1032        ['reshape_6[0][0]']              \n",
            "                                                                                                  \n",
            " dense_13 (Dense)               (None, 1, 1, 128)    1152        ['dense_12[0][0]']               \n",
            "                                                                                                  \n",
            " multiply_6 (Multiply)          (None, 5, 5, 128)    0           ['batch_normalization_14[0][0]', \n",
            "                                                                  'dense_13[0][0]']               \n",
            "                                                                                                  \n",
            " add_6 (Add)                    (None, 5, 5, 128)    0           ['multiply_6[0][0]',             \n",
            "                                                                  'activation_12[0][0]']          \n",
            "                                                                                                  \n",
            " activation_14 (Activation)     (None, 5, 5, 128)    0           ['add_6[0][0]']                  \n",
            "                                                                                                  \n",
            " conv2d_16 (Conv2D)             (None, 3, 3, 256)    295168      ['activation_14[0][0]']          \n",
            "                                                                                                  \n",
            " batch_normalization_15 (BatchN  (None, 3, 3, 256)   1024        ['conv2d_16[0][0]']              \n",
            " ormalization)                                                                                    \n",
            "                                                                                                  \n",
            " activation_15 (Activation)     (None, 3, 3, 256)    0           ['batch_normalization_15[0][0]'] \n",
            "                                                                                                  \n",
            " conv2d_17 (Conv2D)             (None, 3, 3, 256)    590080      ['activation_15[0][0]']          \n",
            "                                                                                                  \n",
            " batch_normalization_16 (BatchN  (None, 3, 3, 256)   1024        ['conv2d_17[0][0]']              \n",
            " ormalization)                                                                                    \n",
            "                                                                                                  \n",
            " global_average_pooling2d_7 (Gl  (None, 256)         0           ['batch_normalization_16[0][0]'] \n",
            " obalAveragePooling2D)                                                                            \n",
            "                                                                                                  \n",
            " reshape_7 (Reshape)            (None, 1, 1, 256)    0           ['global_average_pooling2d_7[0][0\n",
            "                                                                 ]']                              \n",
            "                                                                                                  \n",
            " dense_14 (Dense)               (None, 1, 1, 16)     4112        ['reshape_7[0][0]']              \n",
            "                                                                                                  \n",
            " dense_15 (Dense)               (None, 1, 1, 256)    4352        ['dense_14[0][0]']               \n",
            "                                                                                                  \n",
            " multiply_7 (Multiply)          (None, 3, 3, 256)    0           ['batch_normalization_16[0][0]', \n",
            "                                                                  'dense_15[0][0]']               \n",
            "                                                                                                  \n",
            " conv2d_18 (Conv2D)             (None, 3, 3, 256)    33024       ['activation_14[0][0]']          \n",
            "                                                                                                  \n",
            " add_7 (Add)                    (None, 3, 3, 256)    0           ['multiply_7[0][0]',             \n",
            "                                                                  'conv2d_18[0][0]']              \n",
            "                                                                                                  \n",
            " activation_16 (Activation)     (None, 3, 3, 256)    0           ['add_7[0][0]']                  \n",
            "                                                                                                  \n",
            " conv2d_19 (Conv2D)             (None, 3, 3, 256)    590080      ['activation_16[0][0]']          \n",
            "                                                                                                  \n",
            " batch_normalization_17 (BatchN  (None, 3, 3, 256)   1024        ['conv2d_19[0][0]']              \n",
            " ormalization)                                                                                    \n",
            "                                                                                                  \n",
            " activation_17 (Activation)     (None, 3, 3, 256)    0           ['batch_normalization_17[0][0]'] \n",
            "                                                                                                  \n",
            " conv2d_20 (Conv2D)             (None, 3, 3, 256)    590080      ['activation_17[0][0]']          \n",
            "                                                                                                  \n",
            " batch_normalization_18 (BatchN  (None, 3, 3, 256)   1024        ['conv2d_20[0][0]']              \n",
            " ormalization)                                                                                    \n",
            "                                                                                                  \n",
            " global_average_pooling2d_8 (Gl  (None, 256)         0           ['batch_normalization_18[0][0]'] \n",
            " obalAveragePooling2D)                                                                            \n",
            "                                                                                                  \n",
            " reshape_8 (Reshape)            (None, 1, 1, 256)    0           ['global_average_pooling2d_8[0][0\n",
            "                                                                 ]']                              \n",
            "                                                                                                  \n",
            " dense_16 (Dense)               (None, 1, 1, 16)     4112        ['reshape_8[0][0]']              \n",
            "                                                                                                  \n",
            " dense_17 (Dense)               (None, 1, 1, 256)    4352        ['dense_16[0][0]']               \n",
            "                                                                                                  \n",
            " multiply_8 (Multiply)          (None, 3, 3, 256)    0           ['batch_normalization_18[0][0]', \n",
            "                                                                  'dense_17[0][0]']               \n",
            "                                                                                                  \n",
            " add_8 (Add)                    (None, 3, 3, 256)    0           ['multiply_8[0][0]',             \n",
            "                                                                  'activation_16[0][0]']          \n",
            "                                                                                                  \n",
            " activation_18 (Activation)     (None, 3, 3, 256)    0           ['add_8[0][0]']                  \n",
            "                                                                                                  \n",
            " conv2d_21 (Conv2D)             (None, 3, 3, 256)    590080      ['activation_18[0][0]']          \n",
            "                                                                                                  \n",
            " batch_normalization_19 (BatchN  (None, 3, 3, 256)   1024        ['conv2d_21[0][0]']              \n",
            " ormalization)                                                                                    \n",
            "                                                                                                  \n",
            " activation_19 (Activation)     (None, 3, 3, 256)    0           ['batch_normalization_19[0][0]'] \n",
            "                                                                                                  \n",
            " conv2d_22 (Conv2D)             (None, 3, 3, 256)    590080      ['activation_19[0][0]']          \n",
            "                                                                                                  \n",
            " batch_normalization_20 (BatchN  (None, 3, 3, 256)   1024        ['conv2d_22[0][0]']              \n",
            " ormalization)                                                                                    \n",
            "                                                                                                  \n",
            " global_average_pooling2d_9 (Gl  (None, 256)         0           ['batch_normalization_20[0][0]'] \n",
            " obalAveragePooling2D)                                                                            \n",
            "                                                                                                  \n",
            " reshape_9 (Reshape)            (None, 1, 1, 256)    0           ['global_average_pooling2d_9[0][0\n",
            "                                                                 ]']                              \n",
            "                                                                                                  \n",
            " dense_18 (Dense)               (None, 1, 1, 16)     4112        ['reshape_9[0][0]']              \n",
            "                                                                                                  \n",
            " dense_19 (Dense)               (None, 1, 1, 256)    4352        ['dense_18[0][0]']               \n",
            "                                                                                                  \n",
            " multiply_9 (Multiply)          (None, 3, 3, 256)    0           ['batch_normalization_20[0][0]', \n",
            "                                                                  'dense_19[0][0]']               \n",
            "                                                                                                  \n",
            " add_9 (Add)                    (None, 3, 3, 256)    0           ['multiply_9[0][0]',             \n",
            "                                                                  'activation_18[0][0]']          \n",
            "                                                                                                  \n",
            " activation_20 (Activation)     (None, 3, 3, 256)    0           ['add_9[0][0]']                  \n",
            "                                                                                                  \n",
            " conv2d_23 (Conv2D)             (None, 3, 3, 256)    590080      ['activation_20[0][0]']          \n",
            "                                                                                                  \n",
            " batch_normalization_21 (BatchN  (None, 3, 3, 256)   1024        ['conv2d_23[0][0]']              \n",
            " ormalization)                                                                                    \n",
            "                                                                                                  \n",
            " activation_21 (Activation)     (None, 3, 3, 256)    0           ['batch_normalization_21[0][0]'] \n",
            "                                                                                                  \n",
            " conv2d_24 (Conv2D)             (None, 3, 3, 256)    590080      ['activation_21[0][0]']          \n",
            "                                                                                                  \n",
            " batch_normalization_22 (BatchN  (None, 3, 3, 256)   1024        ['conv2d_24[0][0]']              \n",
            " ormalization)                                                                                    \n",
            "                                                                                                  \n",
            " global_average_pooling2d_10 (G  (None, 256)         0           ['batch_normalization_22[0][0]'] \n",
            " lobalAveragePooling2D)                                                                           \n",
            "                                                                                                  \n",
            " reshape_10 (Reshape)           (None, 1, 1, 256)    0           ['global_average_pooling2d_10[0][\n",
            "                                                                 0]']                             \n",
            "                                                                                                  \n",
            " dense_20 (Dense)               (None, 1, 1, 16)     4112        ['reshape_10[0][0]']             \n",
            "                                                                                                  \n",
            " dense_21 (Dense)               (None, 1, 1, 256)    4352        ['dense_20[0][0]']               \n",
            "                                                                                                  \n",
            " multiply_10 (Multiply)         (None, 3, 3, 256)    0           ['batch_normalization_22[0][0]', \n",
            "                                                                  'dense_21[0][0]']               \n",
            "                                                                                                  \n",
            " add_10 (Add)                   (None, 3, 3, 256)    0           ['multiply_10[0][0]',            \n",
            "                                                                  'activation_20[0][0]']          \n",
            "                                                                                                  \n",
            " activation_22 (Activation)     (None, 3, 3, 256)    0           ['add_10[0][0]']                 \n",
            "                                                                                                  \n",
            " conv2d_25 (Conv2D)             (None, 3, 3, 256)    590080      ['activation_22[0][0]']          \n",
            "                                                                                                  \n",
            " batch_normalization_23 (BatchN  (None, 3, 3, 256)   1024        ['conv2d_25[0][0]']              \n",
            " ormalization)                                                                                    \n",
            "                                                                                                  \n",
            " activation_23 (Activation)     (None, 3, 3, 256)    0           ['batch_normalization_23[0][0]'] \n",
            "                                                                                                  \n",
            " conv2d_26 (Conv2D)             (None, 3, 3, 256)    590080      ['activation_23[0][0]']          \n",
            "                                                                                                  \n",
            " batch_normalization_24 (BatchN  (None, 3, 3, 256)   1024        ['conv2d_26[0][0]']              \n",
            " ormalization)                                                                                    \n",
            "                                                                                                  \n",
            " global_average_pooling2d_11 (G  (None, 256)         0           ['batch_normalization_24[0][0]'] \n",
            " lobalAveragePooling2D)                                                                           \n",
            "                                                                                                  \n",
            " reshape_11 (Reshape)           (None, 1, 1, 256)    0           ['global_average_pooling2d_11[0][\n",
            "                                                                 0]']                             \n",
            "                                                                                                  \n",
            " dense_22 (Dense)               (None, 1, 1, 16)     4112        ['reshape_11[0][0]']             \n",
            "                                                                                                  \n",
            " dense_23 (Dense)               (None, 1, 1, 256)    4352        ['dense_22[0][0]']               \n",
            "                                                                                                  \n",
            " multiply_11 (Multiply)         (None, 3, 3, 256)    0           ['batch_normalization_24[0][0]', \n",
            "                                                                  'dense_23[0][0]']               \n",
            "                                                                                                  \n",
            " add_11 (Add)                   (None, 3, 3, 256)    0           ['multiply_11[0][0]',            \n",
            "                                                                  'activation_22[0][0]']          \n",
            "                                                                                                  \n",
            " activation_24 (Activation)     (None, 3, 3, 256)    0           ['add_11[0][0]']                 \n",
            "                                                                                                  \n",
            " conv2d_27 (Conv2D)             (None, 3, 3, 256)    590080      ['activation_24[0][0]']          \n",
            "                                                                                                  \n",
            " batch_normalization_25 (BatchN  (None, 3, 3, 256)   1024        ['conv2d_27[0][0]']              \n",
            " ormalization)                                                                                    \n",
            "                                                                                                  \n",
            " activation_25 (Activation)     (None, 3, 3, 256)    0           ['batch_normalization_25[0][0]'] \n",
            "                                                                                                  \n",
            " conv2d_28 (Conv2D)             (None, 3, 3, 256)    590080      ['activation_25[0][0]']          \n",
            "                                                                                                  \n",
            " batch_normalization_26 (BatchN  (None, 3, 3, 256)   1024        ['conv2d_28[0][0]']              \n",
            " ormalization)                                                                                    \n",
            "                                                                                                  \n",
            " global_average_pooling2d_12 (G  (None, 256)         0           ['batch_normalization_26[0][0]'] \n",
            " lobalAveragePooling2D)                                                                           \n",
            "                                                                                                  \n",
            " reshape_12 (Reshape)           (None, 1, 1, 256)    0           ['global_average_pooling2d_12[0][\n",
            "                                                                 0]']                             \n",
            "                                                                                                  \n",
            " dense_24 (Dense)               (None, 1, 1, 16)     4112        ['reshape_12[0][0]']             \n",
            "                                                                                                  \n",
            " dense_25 (Dense)               (None, 1, 1, 256)    4352        ['dense_24[0][0]']               \n",
            "                                                                                                  \n",
            " multiply_12 (Multiply)         (None, 3, 3, 256)    0           ['batch_normalization_26[0][0]', \n",
            "                                                                  'dense_25[0][0]']               \n",
            "                                                                                                  \n",
            " add_12 (Add)                   (None, 3, 3, 256)    0           ['multiply_12[0][0]',            \n",
            "                                                                  'activation_24[0][0]']          \n",
            "                                                                                                  \n",
            " activation_26 (Activation)     (None, 3, 3, 256)    0           ['add_12[0][0]']                 \n",
            "                                                                                                  \n",
            " conv2d_29 (Conv2D)             (None, 2, 2, 512)    1180160     ['activation_26[0][0]']          \n",
            "                                                                                                  \n",
            " batch_normalization_27 (BatchN  (None, 2, 2, 512)   2048        ['conv2d_29[0][0]']              \n",
            " ormalization)                                                                                    \n",
            "                                                                                                  \n",
            " activation_27 (Activation)     (None, 2, 2, 512)    0           ['batch_normalization_27[0][0]'] \n",
            "                                                                                                  \n",
            " conv2d_30 (Conv2D)             (None, 2, 2, 512)    2359808     ['activation_27[0][0]']          \n",
            "                                                                                                  \n",
            " batch_normalization_28 (BatchN  (None, 2, 2, 512)   2048        ['conv2d_30[0][0]']              \n",
            " ormalization)                                                                                    \n",
            "                                                                                                  \n",
            " global_average_pooling2d_13 (G  (None, 512)         0           ['batch_normalization_28[0][0]'] \n",
            " lobalAveragePooling2D)                                                                           \n",
            "                                                                                                  \n",
            " reshape_13 (Reshape)           (None, 1, 1, 512)    0           ['global_average_pooling2d_13[0][\n",
            "                                                                 0]']                             \n",
            "                                                                                                  \n",
            " dense_26 (Dense)               (None, 1, 1, 32)     16416       ['reshape_13[0][0]']             \n",
            "                                                                                                  \n",
            " dense_27 (Dense)               (None, 1, 1, 512)    16896       ['dense_26[0][0]']               \n",
            "                                                                                                  \n",
            " multiply_13 (Multiply)         (None, 2, 2, 512)    0           ['batch_normalization_28[0][0]', \n",
            "                                                                  'dense_27[0][0]']               \n",
            "                                                                                                  \n",
            " conv2d_31 (Conv2D)             (None, 2, 2, 512)    131584      ['activation_26[0][0]']          \n",
            "                                                                                                  \n",
            " add_13 (Add)                   (None, 2, 2, 512)    0           ['multiply_13[0][0]',            \n",
            "                                                                  'conv2d_31[0][0]']              \n",
            "                                                                                                  \n",
            " activation_28 (Activation)     (None, 2, 2, 512)    0           ['add_13[0][0]']                 \n",
            "                                                                                                  \n",
            " conv2d_32 (Conv2D)             (None, 2, 2, 512)    2359808     ['activation_28[0][0]']          \n",
            "                                                                                                  \n",
            " batch_normalization_29 (BatchN  (None, 2, 2, 512)   2048        ['conv2d_32[0][0]']              \n",
            " ormalization)                                                                                    \n",
            "                                                                                                  \n",
            " activation_29 (Activation)     (None, 2, 2, 512)    0           ['batch_normalization_29[0][0]'] \n",
            "                                                                                                  \n",
            " conv2d_33 (Conv2D)             (None, 2, 2, 512)    2359808     ['activation_29[0][0]']          \n",
            "                                                                                                  \n",
            " batch_normalization_30 (BatchN  (None, 2, 2, 512)   2048        ['conv2d_33[0][0]']              \n",
            " ormalization)                                                                                    \n",
            "                                                                                                  \n",
            " global_average_pooling2d_14 (G  (None, 512)         0           ['batch_normalization_30[0][0]'] \n",
            " lobalAveragePooling2D)                                                                           \n",
            "                                                                                                  \n",
            " reshape_14 (Reshape)           (None, 1, 1, 512)    0           ['global_average_pooling2d_14[0][\n",
            "                                                                 0]']                             \n",
            "                                                                                                  \n",
            " dense_28 (Dense)               (None, 1, 1, 32)     16416       ['reshape_14[0][0]']             \n",
            "                                                                                                  \n",
            " dense_29 (Dense)               (None, 1, 1, 512)    16896       ['dense_28[0][0]']               \n",
            "                                                                                                  \n",
            " multiply_14 (Multiply)         (None, 2, 2, 512)    0           ['batch_normalization_30[0][0]', \n",
            "                                                                  'dense_29[0][0]']               \n",
            "                                                                                                  \n",
            " add_14 (Add)                   (None, 2, 2, 512)    0           ['multiply_14[0][0]',            \n",
            "                                                                  'activation_28[0][0]']          \n",
            "                                                                                                  \n",
            " activation_30 (Activation)     (None, 2, 2, 512)    0           ['add_14[0][0]']                 \n",
            "                                                                                                  \n",
            " conv2d_34 (Conv2D)             (None, 2, 2, 512)    2359808     ['activation_30[0][0]']          \n",
            "                                                                                                  \n",
            " batch_normalization_31 (BatchN  (None, 2, 2, 512)   2048        ['conv2d_34[0][0]']              \n",
            " ormalization)                                                                                    \n",
            "                                                                                                  \n",
            " activation_31 (Activation)     (None, 2, 2, 512)    0           ['batch_normalization_31[0][0]'] \n",
            "                                                                                                  \n",
            " conv2d_35 (Conv2D)             (None, 2, 2, 512)    2359808     ['activation_31[0][0]']          \n",
            "                                                                                                  \n",
            " batch_normalization_32 (BatchN  (None, 2, 2, 512)   2048        ['conv2d_35[0][0]']              \n",
            " ormalization)                                                                                    \n",
            "                                                                                                  \n",
            " global_average_pooling2d_15 (G  (None, 512)         0           ['batch_normalization_32[0][0]'] \n",
            " lobalAveragePooling2D)                                                                           \n",
            "                                                                                                  \n",
            " reshape_15 (Reshape)           (None, 1, 1, 512)    0           ['global_average_pooling2d_15[0][\n",
            "                                                                 0]']                             \n",
            "                                                                                                  \n",
            " dense_30 (Dense)               (None, 1, 1, 32)     16416       ['reshape_15[0][0]']             \n",
            "                                                                                                  \n",
            " dense_31 (Dense)               (None, 1, 1, 512)    16896       ['dense_30[0][0]']               \n",
            "                                                                                                  \n",
            " multiply_15 (Multiply)         (None, 2, 2, 512)    0           ['batch_normalization_32[0][0]', \n",
            "                                                                  'dense_31[0][0]']               \n",
            "                                                                                                  \n",
            " add_15 (Add)                   (None, 2, 2, 512)    0           ['multiply_15[0][0]',            \n",
            "                                                                  'activation_30[0][0]']          \n",
            "                                                                                                  \n",
            " activation_32 (Activation)     (None, 2, 2, 512)    0           ['add_15[0][0]']                 \n",
            "                                                                                                  \n",
            " average_pooling2d (AveragePool  (None, 1, 1, 512)   0           ['activation_32[0][0]']          \n",
            " ing2D)                                                                                           \n",
            "                                                                                                  \n",
            " flatten (Flatten)              (None, 512)          0           ['average_pooling2d[0][0]']      \n",
            "                                                                                                  \n",
            " dense_32 (Dense)               (None, 512)          262656      ['flatten[0][0]']                \n",
            "                                                                                                  \n",
            " dense_33 (Dense)               (None, 4)            2052        ['dense_32[0][0]']               \n",
            "                                                                                                  \n",
            "==================================================================================================\n",
            "Total params: 21,732,528\n",
            "Trainable params: 21,717,296\n",
            "Non-trainable params: 15,232\n",
            "__________________________________________________________________________________________________\n"
          ]
        }
      ]
    },
    {
      "cell_type": "code",
      "source": [
        "model.compile(loss='categorical_crossentropy', optimizer='adam', metrics=['accuracy'])"
      ],
      "metadata": {
        "id": "l3pEZAiztIVF"
      },
      "execution_count": 16,
      "outputs": []
    },
    {
      "cell_type": "code",
      "source": [
        "batch_size= 64\n",
        "epochs = 20\n",
        "history = model.fit(x_train,y_train,batch_size=batch_size*2, epochs=epochs,validation_data=(x_test, y_test),\n",
        "                      shuffle=True,verbose=1)"
      ],
      "metadata": {
        "colab": {
          "base_uri": "https://localhost:8080/"
        },
        "id": "oJZg_oLUtuwV",
        "outputId": "0870a2a2-d0a5-41f3-f445-c5c35ed79606"
      },
      "execution_count": 17,
      "outputs": [
        {
          "output_type": "stream",
          "name": "stdout",
          "text": [
            "Epoch 1/20\n",
            "8/8 [==============================] - 54s 530ms/step - loss: 1.7228 - accuracy: 0.4385 - val_loss: 166.3023 - val_accuracy: 0.2417\n",
            "Epoch 2/20\n",
            "8/8 [==============================] - 1s 89ms/step - loss: 0.7641 - accuracy: 0.6323 - val_loss: 458.6298 - val_accuracy: 0.2417\n",
            "Epoch 3/20\n",
            "8/8 [==============================] - 1s 89ms/step - loss: 0.4075 - accuracy: 0.8135 - val_loss: 69.3857 - val_accuracy: 0.2417\n",
            "Epoch 4/20\n",
            "8/8 [==============================] - 1s 88ms/step - loss: 0.2340 - accuracy: 0.9073 - val_loss: 6.2583 - val_accuracy: 0.2417\n",
            "Epoch 5/20\n",
            "8/8 [==============================] - 1s 100ms/step - loss: 0.1346 - accuracy: 0.9563 - val_loss: 2.8259 - val_accuracy: 0.2583\n",
            "Epoch 6/20\n",
            "8/8 [==============================] - 1s 113ms/step - loss: 0.0463 - accuracy: 0.9865 - val_loss: 6.1350 - val_accuracy: 0.2583\n",
            "Epoch 7/20\n",
            "8/8 [==============================] - 1s 109ms/step - loss: 0.0146 - accuracy: 0.9990 - val_loss: 7.6667 - val_accuracy: 0.2583\n",
            "Epoch 8/20\n",
            "8/8 [==============================] - 1s 116ms/step - loss: 0.0132 - accuracy: 0.9969 - val_loss: 8.9273 - val_accuracy: 0.2583\n",
            "Epoch 9/20\n",
            "8/8 [==============================] - 1s 110ms/step - loss: 0.0173 - accuracy: 0.9937 - val_loss: 9.8259 - val_accuracy: 0.2583\n",
            "Epoch 10/20\n",
            "8/8 [==============================] - 1s 89ms/step - loss: 0.1057 - accuracy: 0.9677 - val_loss: 10.0669 - val_accuracy: 0.2583\n",
            "Epoch 11/20\n",
            "8/8 [==============================] - 1s 102ms/step - loss: 0.0866 - accuracy: 0.9656 - val_loss: 9.2796 - val_accuracy: 0.2583\n",
            "Epoch 12/20\n",
            "8/8 [==============================] - 1s 90ms/step - loss: 0.2424 - accuracy: 0.9146 - val_loss: 11.4505 - val_accuracy: 0.2583\n",
            "Epoch 13/20\n",
            "8/8 [==============================] - 1s 90ms/step - loss: 0.2020 - accuracy: 0.9292 - val_loss: 13.5674 - val_accuracy: 0.2583\n",
            "Epoch 14/20\n",
            "8/8 [==============================] - 1s 88ms/step - loss: 0.0646 - accuracy: 0.9719 - val_loss: 18.9157 - val_accuracy: 0.2583\n",
            "Epoch 15/20\n",
            "8/8 [==============================] - 1s 89ms/step - loss: 0.0820 - accuracy: 0.9750 - val_loss: 20.5048 - val_accuracy: 0.2583\n",
            "Epoch 16/20\n",
            "8/8 [==============================] - 1s 90ms/step - loss: 0.0280 - accuracy: 0.9917 - val_loss: 20.0988 - val_accuracy: 0.2583\n",
            "Epoch 17/20\n",
            "8/8 [==============================] - 1s 88ms/step - loss: 0.0528 - accuracy: 0.9802 - val_loss: 19.7457 - val_accuracy: 0.2583\n",
            "Epoch 18/20\n",
            "8/8 [==============================] - 1s 89ms/step - loss: 0.0480 - accuracy: 0.9854 - val_loss: 18.9211 - val_accuracy: 0.2583\n",
            "Epoch 19/20\n",
            "8/8 [==============================] - 1s 90ms/step - loss: 0.0281 - accuracy: 0.9896 - val_loss: 19.1805 - val_accuracy: 0.2583\n",
            "Epoch 20/20\n",
            "8/8 [==============================] - 1s 90ms/step - loss: 0.0196 - accuracy: 0.9958 - val_loss: 17.7691 - val_accuracy: 0.2583\n"
          ]
        }
      ]
    },
    {
      "cell_type": "code",
      "source": [],
      "metadata": {
        "id": "pisIaEMkx2rb"
      },
      "execution_count": null,
      "outputs": []
    },
    {
      "cell_type": "code",
      "execution_count": 18,
      "metadata": {
        "id": "dUTZhK9ObaUu"
      },
      "outputs": [],
      "source": [
        "#Algortimo de GradCAM para visualizacion\n",
        "#Author: fchollet\n",
        "#Libro: Deep Learning with Python (2017)\n",
        "#Description: How to obtain a class activation heatmap for an image classification model.\n",
        "\n",
        "def get_img_array(img_path, size):\n",
        "    # `img` is a PIL image of size 299x299\n",
        "    img = tf.keras.preprocessing.image.load_img(img_path, target_size=size)\n",
        "    # `array` is a float32 Numpy array of shape (299, 299, 3)\n",
        "    array = tf.keras.preprocessing.image.img_to_array(img)\n",
        "    # We add a dimension to transform our array into a \"batch\"\n",
        "    # of size (1, 299, 299, 3)\n",
        "    array = np.expand_dims(array, axis=0)\n",
        "    return array\n",
        "\n",
        "\n",
        "def make_gradcam_heatmap(img_array, model, last_conv_layer_name, pred_index=None):\n",
        "    # First, we create a model that maps the input image to the activations\n",
        "    # of the last conv layer as well as the output predictions\n",
        "    grad_model = tf.keras.models.Model(\n",
        "        [model.inputs], [model.get_layer(last_conv_layer_name).output, model.output]\n",
        "    )\n",
        "\n",
        "    # Then, we compute the gradient of the top predicted class for our input image\n",
        "    # with respect to the activations of the last conv layer\n",
        "    with tf.GradientTape() as tape:\n",
        "        last_conv_layer_output, preds = grad_model(img_array)\n",
        "        if pred_index is None:\n",
        "            pred_index = tf.argmax(preds[0])\n",
        "        class_channel = preds[:, pred_index]\n",
        "\n",
        "    # This is the gradient of the output neuron (top predicted or chosen)\n",
        "    # with regard to the output feature map of the last conv layer\n",
        "    grads = tape.gradient(class_channel, last_conv_layer_output)\n",
        "\n",
        "    # This is a vector where each entry is the mean intensity of the gradient\n",
        "    # over a specific feature map channel\n",
        "    pooled_grads = tf.reduce_mean(grads, axis=(0, 1, 2))\n",
        "\n",
        "    # We multiply each channel in the feature map array\n",
        "    # by \"how important this channel is\" with regard to the top predicted class\n",
        "    # then sum all the channels to obtain the heatmap class activation\n",
        "    last_conv_layer_output = last_conv_layer_output[0]\n",
        "    heatmap = last_conv_layer_output @ pooled_grads[..., tf.newaxis]\n",
        "    heatmap = tf.squeeze(heatmap)\n",
        "\n",
        "    # For visualization purpose, we will also normalize the heatmap between 0 & 1\n",
        "    heatmap = tf.maximum(heatmap, 0) / tf.math.reduce_max(heatmap)\n",
        "    return heatmap.numpy()"
      ]
    },
    {
      "cell_type": "code",
      "execution_count": 19,
      "metadata": {
        "id": "tTVjlHeeb_Ia"
      },
      "outputs": [],
      "source": [
        "etiquetas = np.array([\n",
        "    'Green',\n",
        "    'Light',\n",
        "    'Medium',\n",
        "    'Dark'])"
      ]
    },
    {
      "cell_type": "code",
      "execution_count": 20,
      "metadata": {
        "colab": {
          "base_uri": "https://localhost:8080/"
        },
        "id": "NY07oM5tcOkp",
        "outputId": "a0b7a434-f450-4955-f13d-0fffe61d7d0a"
      },
      "outputs": [
        {
          "output_type": "stream",
          "name": "stdout",
          "text": [
            "1/1 [==============================] - 3s 3s/step\n",
            "Dark\n"
          ]
        }
      ],
      "source": [
        "preprocess_input = tf.keras.applications.xception.preprocess_input\n",
        "\n",
        "img_array = preprocess_input(get_img_array('cafe.jpg', size=(32,32)))\n",
        "img_array = img_array.astype('float32')/255.0\n",
        "mean = np.mean(img_array,axis=(0,1,2,3))\n",
        "std = np.std(img_array, axis=(0,1,2,3))\n",
        "img_array = (img_array- mean)/(std+1e-7)\n",
        "preds1 = model.predict(img_array)\n",
        "#preds2 = model2.predict(img_array)\n",
        "print(str(etiquetas[(np.argmax(preds1,axis=1))[0]]))\n",
        "#print(str(etiquetas[(np.argmax(preds2,axis=1))[0]]))\n",
        "heatmap1 = make_gradcam_heatmap(img_array, model, 'activation_32')\n",
        "#heatmap1 = make_gradcam_heatmap(img_array, model, 'add_15')\n",
        "heatmap1 = cv2.resize(heatmap1,(552,612))"
      ]
    },
    {
      "cell_type": "code",
      "source": [
        "print(heatmap1)\n",
        "plt.show"
      ],
      "metadata": {
        "colab": {
          "base_uri": "https://localhost:8080/"
        },
        "id": "xdK6dKLfj2Sl",
        "outputId": "061328d0-6f5f-4086-9064-695fa244022a"
      },
      "execution_count": 21,
      "outputs": [
        {
          "output_type": "stream",
          "name": "stdout",
          "text": [
            "[[0.71130043 0.71130043 0.71130043 ... 0.8453431  0.8453431  0.8453431 ]\n",
            " [0.71130043 0.71130043 0.71130043 ... 0.8453431  0.8453431  0.8453431 ]\n",
            " [0.71130043 0.71130043 0.71130043 ... 0.8453431  0.8453431  0.8453431 ]\n",
            " ...\n",
            " [1.         1.         1.         ... 0.69844526 0.69844526 0.69844526]\n",
            " [1.         1.         1.         ... 0.69844526 0.69844526 0.69844526]\n",
            " [1.         1.         1.         ... 0.69844526 0.69844526 0.69844526]]\n"
          ]
        },
        {
          "output_type": "execute_result",
          "data": {
            "text/plain": [
              "<function matplotlib.pyplot.show(close=None, block=None)>"
            ]
          },
          "metadata": {},
          "execution_count": 21
        }
      ]
    },
    {
      "cell_type": "code",
      "source": [
        "plt.matshow(heatmap1)\n",
        "plt.show"
      ],
      "metadata": {
        "colab": {
          "base_uri": "https://localhost:8080/",
          "height": 454
        },
        "id": "_CRtgDDmjdyh",
        "outputId": "fd762b41-76e5-401e-c02b-12dae38523af"
      },
      "execution_count": 22,
      "outputs": [
        {
          "output_type": "execute_result",
          "data": {
            "text/plain": [
              "<function matplotlib.pyplot.show(close=None, block=None)>"
            ]
          },
          "metadata": {},
          "execution_count": 22
        },
        {
          "output_type": "display_data",
          "data": {
            "text/plain": [
              "<Figure size 432.941x480 with 1 Axes>"
            ],
            "image/png": "[encoded data removed]"
          },
          "metadata": {}
        }
      ]
    },
    {
      "cell_type": "code",
      "execution_count": 23,
      "metadata": {
        "id": "e8sOQ2HvcYzw"
      },
      "outputs": [],
      "source": [
        "def save_and_display_gradcam(img_path, heatmap, cam_path=\"cam.jpg\", alpha=0.4):\n",
        "    # Load the original image\n",
        "    img = tf.keras.utils.load_img(img_path)\n",
        "    img = tf.keras.utils.img_to_array(img)\n",
        "\n",
        "    # Rescale heatmap to a range 0-255\n",
        "    heatmap = np.uint8(255 * heatmap)\n",
        "\n",
        "    # Use jet colormap to colorize heatmap\n",
        "    jet = cm.get_cmap(\"jet\")\n",
        "\n",
        "    # Use RGB values of the colormap\n",
        "    jet_colors = jet(np.arange(256))[:, :3]\n",
        "    jet_heatmap = jet_colors[heatmap]\n",
        "\n",
        "    # Create an image with RGB colorized heatmap\n",
        "    jet_heatmap = tf.keras.utils.array_to_img(jet_heatmap)\n",
        "    jet_heatmap = jet_heatmap.resize((img.shape[1], img.shape[0]))\n",
        "    jet_heatmap = tf.keras.utils.img_to_array(jet_heatmap)\n",
        "\n",
        "    # Superimpose the heatmap on original image\n",
        "    superimposed_img = jet_heatmap * alpha + img\n",
        "    superimposed_img = tf.keras.utils.array_to_img(superimposed_img)\n",
        "\n",
        "    # Save the superimposed image\n",
        "    superimposed_img.save(cam_path)\n",
        "\n",
        "    # Display Grad CAM\n",
        "    display(Image(cam_path))\n",
        "\n",
        "\n"
      ]
    },
    {
      "cell_type": "code",
      "execution_count": 24,
      "metadata": {
        "id": "XYLXmWlIcb-m",
        "colab": {
          "base_uri": "https://localhost:8080/",
          "height": 684
        },
        "outputId": "29c641e3-45d8-4531-e45d-cb5e45c9c7b9"
      },
      "outputs": [
        {
          "output_type": "stream",
          "name": "stderr",
          "text": [
            "<ipython-input-23-271777074253>:10: MatplotlibDeprecationWarning: The get_cmap function was deprecated in Matplotlib 3.7 and will be removed two minor releases later. Use ``matplotlib.colormaps[name]`` or ``matplotlib.colormaps.get_cmap(obj)`` instead.\n",
            "  jet = cm.get_cmap(\"jet\")\n"
          ]
        },
        {
          "output_type": "display_data",
          "data": {
            "image/jpeg": "[encoded data removed]",
            "text/plain": [
              "<IPython.core.display.Image object>"
            ]
          },
          "metadata": {}
        }
      ],
      "source": [
        "save_and_display_gradcam('cafe.jpg', heatmap1)"
      ]
    }
  ]
}